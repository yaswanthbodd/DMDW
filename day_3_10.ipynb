{
 "cells": [
  {
   "cell_type": "code",
   "execution_count": 45,
   "id": "d7567a33",
   "metadata": {},
   "outputs": [],
   "source": [
    "import pandas as pd\n",
    "import numpy as np"
   ]
  },
  {
   "cell_type": "code",
   "execution_count": null,
   "id": "62db7b86",
   "metadata": {},
   "outputs": [],
   "source": []
  },
  {
   "cell_type": "code",
   "execution_count": 46,
   "id": "25531874",
   "metadata": {},
   "outputs": [
    {
     "data": {
      "text/html": [
       "<div>\n",
       "<style scoped>\n",
       "    .dataframe tbody tr th:only-of-type {\n",
       "        vertical-align: middle;\n",
       "    }\n",
       "\n",
       "    .dataframe tbody tr th {\n",
       "        vertical-align: top;\n",
       "    }\n",
       "\n",
       "    .dataframe thead th {\n",
       "        text-align: right;\n",
       "    }\n",
       "</style>\n",
       "<table border=\"1\" class=\"dataframe\">\n",
       "  <thead>\n",
       "    <tr style=\"text-align: right;\">\n",
       "      <th></th>\n",
       "      <th>Country</th>\n",
       "      <th>Age</th>\n",
       "      <th>Salary</th>\n",
       "      <th>Purchased</th>\n",
       "    </tr>\n",
       "  </thead>\n",
       "  <tbody>\n",
       "    <tr>\n",
       "      <th>0</th>\n",
       "      <td>India</td>\n",
       "      <td>34.0</td>\n",
       "      <td>92000.0</td>\n",
       "      <td>yes</td>\n",
       "    </tr>\n",
       "    <tr>\n",
       "      <th>1</th>\n",
       "      <td>Sri lanka</td>\n",
       "      <td>22.0</td>\n",
       "      <td>25000.0</td>\n",
       "      <td>yes</td>\n",
       "    </tr>\n",
       "    <tr>\n",
       "      <th>2</th>\n",
       "      <td>China</td>\n",
       "      <td>31.0</td>\n",
       "      <td>74000.0</td>\n",
       "      <td>yes</td>\n",
       "    </tr>\n",
       "    <tr>\n",
       "      <th>3</th>\n",
       "      <td>Sri lanka</td>\n",
       "      <td>29.0</td>\n",
       "      <td>NaN</td>\n",
       "      <td>no</td>\n",
       "    </tr>\n",
       "    <tr>\n",
       "      <th>4</th>\n",
       "      <td>China</td>\n",
       "      <td>55.0</td>\n",
       "      <td>98000.0</td>\n",
       "      <td>yes</td>\n",
       "    </tr>\n",
       "    <tr>\n",
       "      <th>5</th>\n",
       "      <td>India</td>\n",
       "      <td>24.0</td>\n",
       "      <td>30000.0</td>\n",
       "      <td>no</td>\n",
       "    </tr>\n",
       "    <tr>\n",
       "      <th>6</th>\n",
       "      <td>Sri lanka</td>\n",
       "      <td>28.0</td>\n",
       "      <td>40000.0</td>\n",
       "      <td>no</td>\n",
       "    </tr>\n",
       "    <tr>\n",
       "      <th>7</th>\n",
       "      <td>India</td>\n",
       "      <td>NaN</td>\n",
       "      <td>60000.0</td>\n",
       "      <td>no</td>\n",
       "    </tr>\n",
       "    <tr>\n",
       "      <th>8</th>\n",
       "      <td>China</td>\n",
       "      <td>51.0</td>\n",
       "      <td>89000.0</td>\n",
       "      <td>no</td>\n",
       "    </tr>\n",
       "    <tr>\n",
       "      <th>9</th>\n",
       "      <td>India</td>\n",
       "      <td>44.0</td>\n",
       "      <td>78000.0</td>\n",
       "      <td>yes</td>\n",
       "    </tr>\n",
       "    <tr>\n",
       "      <th>10</th>\n",
       "      <td>Sri lanka</td>\n",
       "      <td>21.0</td>\n",
       "      <td>20000.0</td>\n",
       "      <td>yes</td>\n",
       "    </tr>\n",
       "    <tr>\n",
       "      <th>11</th>\n",
       "      <td>China</td>\n",
       "      <td>25.0</td>\n",
       "      <td>30000.0</td>\n",
       "      <td>no</td>\n",
       "    </tr>\n",
       "    <tr>\n",
       "      <th>12</th>\n",
       "      <td>India</td>\n",
       "      <td>33.0</td>\n",
       "      <td>45000.0</td>\n",
       "      <td>yes</td>\n",
       "    </tr>\n",
       "    <tr>\n",
       "      <th>13</th>\n",
       "      <td>India</td>\n",
       "      <td>42.0</td>\n",
       "      <td>65000.0</td>\n",
       "      <td>yes</td>\n",
       "    </tr>\n",
       "    <tr>\n",
       "      <th>14</th>\n",
       "      <td>Sri lanka</td>\n",
       "      <td>33.0</td>\n",
       "      <td>22000.0</td>\n",
       "      <td>no</td>\n",
       "    </tr>\n",
       "  </tbody>\n",
       "</table>\n",
       "</div>"
      ],
      "text/plain": [
       "      Country   Age   Salary Purchased\n",
       "0       India  34.0  92000.0       yes\n",
       "1   Sri lanka  22.0  25000.0       yes\n",
       "2       China  31.0  74000.0       yes\n",
       "3   Sri lanka  29.0      NaN        no\n",
       "4       China  55.0  98000.0       yes\n",
       "5       India  24.0  30000.0        no\n",
       "6   Sri lanka  28.0  40000.0        no\n",
       "7       India   NaN  60000.0        no\n",
       "8       China  51.0  89000.0        no\n",
       "9       India  44.0  78000.0       yes\n",
       "10  Sri lanka  21.0  20000.0       yes\n",
       "11      China  25.0  30000.0        no\n",
       "12      India  33.0  45000.0       yes\n",
       "13      India  42.0  65000.0       yes\n",
       "14  Sri lanka  33.0  22000.0        no"
      ]
     },
     "execution_count": 46,
     "metadata": {},
     "output_type": "execute_result"
    }
   ],
   "source": [
    "ds=pd.read_csv(\"Data1.csv\")\n",
    "ds"
   ]
  },
  {
   "cell_type": "code",
   "execution_count": 48,
   "id": "896f6035",
   "metadata": {},
   "outputs": [
    {
     "name": "stdout",
     "output_type": "stream",
     "text": [
      "<class 'pandas.core.frame.DataFrame'>\n",
      "RangeIndex: 15 entries, 0 to 14\n",
      "Data columns (total 4 columns):\n",
      " #   Column     Non-Null Count  Dtype  \n",
      "---  ------     --------------  -----  \n",
      " 0   Country    15 non-null     object \n",
      " 1   Age        14 non-null     float64\n",
      " 2   Salary     14 non-null     float64\n",
      " 3   Purchased  15 non-null     object \n",
      "dtypes: float64(2), object(2)\n",
      "memory usage: 608.0+ bytes\n"
     ]
    }
   ],
   "source": [
    "ds.info()"
   ]
  },
  {
   "cell_type": "code",
   "execution_count": 49,
   "id": "9357f5f6",
   "metadata": {},
   "outputs": [
    {
     "data": {
      "text/plain": [
       "array([['India', 34.0, 92000.0],\n",
       "       ['Sri lanka', 22.0, 25000.0],\n",
       "       ['China', 31.0, 74000.0],\n",
       "       ['Sri lanka', 29.0, nan],\n",
       "       ['China', 55.0, 98000.0],\n",
       "       ['India', 24.0, 30000.0],\n",
       "       ['Sri lanka', 28.0, 40000.0],\n",
       "       ['India', nan, 60000.0],\n",
       "       ['China', 51.0, 89000.0],\n",
       "       ['India', 44.0, 78000.0],\n",
       "       ['Sri lanka', 21.0, 20000.0],\n",
       "       ['China', 25.0, 30000.0],\n",
       "       ['India', 33.0, 45000.0],\n",
       "       ['India', 42.0, 65000.0],\n",
       "       ['Sri lanka', 33.0, 22000.0]], dtype=object)"
      ]
     },
     "execution_count": 49,
     "metadata": {},
     "output_type": "execute_result"
    }
   ],
   "source": [
    "x=ds.iloc[:,0:-1].values\n",
    "x"
   ]
  },
  {
   "cell_type": "code",
   "execution_count": 50,
   "id": "091427c0",
   "metadata": {},
   "outputs": [
    {
     "data": {
      "text/plain": [
       "array(['yes', 'yes', 'yes', 'no', 'yes', 'no', 'no', 'no', 'no', 'yes',\n",
       "       'yes', 'no', 'yes', 'yes', 'no'], dtype=object)"
      ]
     },
     "execution_count": 50,
     "metadata": {},
     "output_type": "execute_result"
    }
   ],
   "source": [
    "y=ds.iloc[:,-1].values\n",
    "y"
   ]
  },
  {
   "cell_type": "code",
   "execution_count": 51,
   "id": "7a3c1553",
   "metadata": {},
   "outputs": [
    {
     "data": {
      "text/html": [
       "<div>\n",
       "<style scoped>\n",
       "    .dataframe tbody tr th:only-of-type {\n",
       "        vertical-align: middle;\n",
       "    }\n",
       "\n",
       "    .dataframe tbody tr th {\n",
       "        vertical-align: top;\n",
       "    }\n",
       "\n",
       "    .dataframe thead th {\n",
       "        text-align: right;\n",
       "    }\n",
       "</style>\n",
       "<table border=\"1\" class=\"dataframe\">\n",
       "  <thead>\n",
       "    <tr style=\"text-align: right;\">\n",
       "      <th></th>\n",
       "      <th>Country</th>\n",
       "      <th>Age</th>\n",
       "      <th>Salary</th>\n",
       "      <th>Purchased</th>\n",
       "    </tr>\n",
       "  </thead>\n",
       "  <tbody>\n",
       "    <tr>\n",
       "      <th>0</th>\n",
       "      <td>India</td>\n",
       "      <td>34.000000</td>\n",
       "      <td>92000.000000</td>\n",
       "      <td>yes</td>\n",
       "    </tr>\n",
       "    <tr>\n",
       "      <th>1</th>\n",
       "      <td>Sri lanka</td>\n",
       "      <td>22.000000</td>\n",
       "      <td>25000.000000</td>\n",
       "      <td>yes</td>\n",
       "    </tr>\n",
       "    <tr>\n",
       "      <th>2</th>\n",
       "      <td>China</td>\n",
       "      <td>31.000000</td>\n",
       "      <td>74000.000000</td>\n",
       "      <td>yes</td>\n",
       "    </tr>\n",
       "    <tr>\n",
       "      <th>3</th>\n",
       "      <td>Sri lanka</td>\n",
       "      <td>29.000000</td>\n",
       "      <td>54857.142857</td>\n",
       "      <td>no</td>\n",
       "    </tr>\n",
       "    <tr>\n",
       "      <th>4</th>\n",
       "      <td>China</td>\n",
       "      <td>55.000000</td>\n",
       "      <td>98000.000000</td>\n",
       "      <td>yes</td>\n",
       "    </tr>\n",
       "    <tr>\n",
       "      <th>5</th>\n",
       "      <td>India</td>\n",
       "      <td>24.000000</td>\n",
       "      <td>30000.000000</td>\n",
       "      <td>no</td>\n",
       "    </tr>\n",
       "    <tr>\n",
       "      <th>6</th>\n",
       "      <td>Sri lanka</td>\n",
       "      <td>28.000000</td>\n",
       "      <td>40000.000000</td>\n",
       "      <td>no</td>\n",
       "    </tr>\n",
       "    <tr>\n",
       "      <th>7</th>\n",
       "      <td>India</td>\n",
       "      <td>33.714286</td>\n",
       "      <td>60000.000000</td>\n",
       "      <td>no</td>\n",
       "    </tr>\n",
       "    <tr>\n",
       "      <th>8</th>\n",
       "      <td>China</td>\n",
       "      <td>51.000000</td>\n",
       "      <td>89000.000000</td>\n",
       "      <td>no</td>\n",
       "    </tr>\n",
       "    <tr>\n",
       "      <th>9</th>\n",
       "      <td>India</td>\n",
       "      <td>44.000000</td>\n",
       "      <td>78000.000000</td>\n",
       "      <td>yes</td>\n",
       "    </tr>\n",
       "    <tr>\n",
       "      <th>10</th>\n",
       "      <td>Sri lanka</td>\n",
       "      <td>21.000000</td>\n",
       "      <td>20000.000000</td>\n",
       "      <td>yes</td>\n",
       "    </tr>\n",
       "    <tr>\n",
       "      <th>11</th>\n",
       "      <td>China</td>\n",
       "      <td>25.000000</td>\n",
       "      <td>30000.000000</td>\n",
       "      <td>no</td>\n",
       "    </tr>\n",
       "    <tr>\n",
       "      <th>12</th>\n",
       "      <td>India</td>\n",
       "      <td>33.000000</td>\n",
       "      <td>45000.000000</td>\n",
       "      <td>yes</td>\n",
       "    </tr>\n",
       "    <tr>\n",
       "      <th>13</th>\n",
       "      <td>India</td>\n",
       "      <td>42.000000</td>\n",
       "      <td>65000.000000</td>\n",
       "      <td>yes</td>\n",
       "    </tr>\n",
       "    <tr>\n",
       "      <th>14</th>\n",
       "      <td>Sri lanka</td>\n",
       "      <td>33.000000</td>\n",
       "      <td>22000.000000</td>\n",
       "      <td>no</td>\n",
       "    </tr>\n",
       "  </tbody>\n",
       "</table>\n",
       "</div>"
      ],
      "text/plain": [
       "      Country        Age        Salary Purchased\n",
       "0       India  34.000000  92000.000000       yes\n",
       "1   Sri lanka  22.000000  25000.000000       yes\n",
       "2       China  31.000000  74000.000000       yes\n",
       "3   Sri lanka  29.000000  54857.142857        no\n",
       "4       China  55.000000  98000.000000       yes\n",
       "5       India  24.000000  30000.000000        no\n",
       "6   Sri lanka  28.000000  40000.000000        no\n",
       "7       India  33.714286  60000.000000        no\n",
       "8       China  51.000000  89000.000000        no\n",
       "9       India  44.000000  78000.000000       yes\n",
       "10  Sri lanka  21.000000  20000.000000       yes\n",
       "11      China  25.000000  30000.000000        no\n",
       "12      India  33.000000  45000.000000       yes\n",
       "13      India  42.000000  65000.000000       yes\n",
       "14  Sri lanka  33.000000  22000.000000        no"
      ]
     },
     "execution_count": 51,
     "metadata": {},
     "output_type": "execute_result"
    }
   ],
   "source": [
    "#filling in the missing values into the data by using the SimpleImputer and using the strategy is 'mean'\n",
    "from sklearn.impute import SimpleImputer\n",
    "imputer=SimpleImputer(missing_values=np.nan,strategy='mean')\n",
    "imputer=imputer.fit(ds[['Age','Salary']])\n",
    "ds[['Age','Salary']]=imputer.transform(ds[['Age','Salary']])\n",
    "ds"
   ]
  },
  {
   "cell_type": "code",
   "execution_count": 52,
   "id": "dbb01ae4",
   "metadata": {},
   "outputs": [
    {
     "name": "stdout",
     "output_type": "stream",
     "text": [
      "<class 'pandas.core.frame.DataFrame'>\n",
      "RangeIndex: 15 entries, 0 to 14\n",
      "Data columns (total 4 columns):\n",
      " #   Column     Non-Null Count  Dtype  \n",
      "---  ------     --------------  -----  \n",
      " 0   Country    15 non-null     object \n",
      " 1   Age        15 non-null     float64\n",
      " 2   Salary     15 non-null     float64\n",
      " 3   Purchased  15 non-null     object \n",
      "dtypes: float64(2), object(2)\n",
      "memory usage: 608.0+ bytes\n"
     ]
    }
   ],
   "source": [
    "ds.info()"
   ]
  },
  {
   "cell_type": "code",
   "execution_count": 53,
   "id": "d30a02a2",
   "metadata": {},
   "outputs": [
    {
     "data": {
      "text/plain": [
       "array([[1, 34.0, 92000.0],\n",
       "       [2, 22.0, 25000.0],\n",
       "       [0, 31.0, 74000.0],\n",
       "       [2, 29.0, nan],\n",
       "       [0, 55.0, 98000.0],\n",
       "       [1, 24.0, 30000.0],\n",
       "       [2, 28.0, 40000.0],\n",
       "       [1, nan, 60000.0],\n",
       "       [0, 51.0, 89000.0],\n",
       "       [1, 44.0, 78000.0],\n",
       "       [2, 21.0, 20000.0],\n",
       "       [0, 25.0, 30000.0],\n",
       "       [1, 33.0, 45000.0],\n",
       "       [1, 42.0, 65000.0],\n",
       "       [2, 33.0, 22000.0]], dtype=object)"
      ]
     },
     "execution_count": 53,
     "metadata": {},
     "output_type": "execute_result"
    }
   ],
   "source": [
    "from sklearn.preprocessing import LabelEncoder\n",
    "le=LabelEncoder()\n",
    "x[:,0]=le.fit_transform(x[:,0])\n",
    "x"
   ]
  },
  {
   "cell_type": "code",
   "execution_count": 54,
   "id": "e3017582",
   "metadata": {},
   "outputs": [
    {
     "data": {
      "text/plain": [
       "array([1, 1, 1, 0, 1, 0, 0, 0, 0, 1, 1, 0, 1, 1, 0], dtype=object)"
      ]
     },
     "execution_count": 54,
     "metadata": {},
     "output_type": "execute_result"
    }
   ],
   "source": [
    "from sklearn.preprocessing import LabelEncoder\n",
    "le=LabelEncoder()\n",
    "y[:]=le.fit_transform(y[:])\n",
    "y"
   ]
  },
  {
   "cell_type": "code",
   "execution_count": 55,
   "id": "4c267721",
   "metadata": {},
   "outputs": [
    {
     "data": {
      "text/html": [
       "<div>\n",
       "<style scoped>\n",
       "    .dataframe tbody tr th:only-of-type {\n",
       "        vertical-align: middle;\n",
       "    }\n",
       "\n",
       "    .dataframe tbody tr th {\n",
       "        vertical-align: top;\n",
       "    }\n",
       "\n",
       "    .dataframe thead th {\n",
       "        text-align: right;\n",
       "    }\n",
       "</style>\n",
       "<table border=\"1\" class=\"dataframe\">\n",
       "  <thead>\n",
       "    <tr style=\"text-align: right;\">\n",
       "      <th></th>\n",
       "      <th>China</th>\n",
       "      <th>India</th>\n",
       "      <th>Sri lanka</th>\n",
       "    </tr>\n",
       "  </thead>\n",
       "  <tbody>\n",
       "    <tr>\n",
       "      <th>0</th>\n",
       "      <td>0</td>\n",
       "      <td>1</td>\n",
       "      <td>0</td>\n",
       "    </tr>\n",
       "    <tr>\n",
       "      <th>1</th>\n",
       "      <td>0</td>\n",
       "      <td>0</td>\n",
       "      <td>1</td>\n",
       "    </tr>\n",
       "    <tr>\n",
       "      <th>2</th>\n",
       "      <td>1</td>\n",
       "      <td>0</td>\n",
       "      <td>0</td>\n",
       "    </tr>\n",
       "    <tr>\n",
       "      <th>3</th>\n",
       "      <td>0</td>\n",
       "      <td>0</td>\n",
       "      <td>1</td>\n",
       "    </tr>\n",
       "    <tr>\n",
       "      <th>4</th>\n",
       "      <td>1</td>\n",
       "      <td>0</td>\n",
       "      <td>0</td>\n",
       "    </tr>\n",
       "    <tr>\n",
       "      <th>5</th>\n",
       "      <td>0</td>\n",
       "      <td>1</td>\n",
       "      <td>0</td>\n",
       "    </tr>\n",
       "    <tr>\n",
       "      <th>6</th>\n",
       "      <td>0</td>\n",
       "      <td>0</td>\n",
       "      <td>1</td>\n",
       "    </tr>\n",
       "    <tr>\n",
       "      <th>7</th>\n",
       "      <td>0</td>\n",
       "      <td>1</td>\n",
       "      <td>0</td>\n",
       "    </tr>\n",
       "    <tr>\n",
       "      <th>8</th>\n",
       "      <td>1</td>\n",
       "      <td>0</td>\n",
       "      <td>0</td>\n",
       "    </tr>\n",
       "    <tr>\n",
       "      <th>9</th>\n",
       "      <td>0</td>\n",
       "      <td>1</td>\n",
       "      <td>0</td>\n",
       "    </tr>\n",
       "    <tr>\n",
       "      <th>10</th>\n",
       "      <td>0</td>\n",
       "      <td>0</td>\n",
       "      <td>1</td>\n",
       "    </tr>\n",
       "    <tr>\n",
       "      <th>11</th>\n",
       "      <td>1</td>\n",
       "      <td>0</td>\n",
       "      <td>0</td>\n",
       "    </tr>\n",
       "    <tr>\n",
       "      <th>12</th>\n",
       "      <td>0</td>\n",
       "      <td>1</td>\n",
       "      <td>0</td>\n",
       "    </tr>\n",
       "    <tr>\n",
       "      <th>13</th>\n",
       "      <td>0</td>\n",
       "      <td>1</td>\n",
       "      <td>0</td>\n",
       "    </tr>\n",
       "    <tr>\n",
       "      <th>14</th>\n",
       "      <td>0</td>\n",
       "      <td>0</td>\n",
       "      <td>1</td>\n",
       "    </tr>\n",
       "  </tbody>\n",
       "</table>\n",
       "</div>"
      ],
      "text/plain": [
       "    China  India  Sri lanka\n",
       "0       0      1          0\n",
       "1       0      0          1\n",
       "2       1      0          0\n",
       "3       0      0          1\n",
       "4       1      0          0\n",
       "5       0      1          0\n",
       "6       0      0          1\n",
       "7       0      1          0\n",
       "8       1      0          0\n",
       "9       0      1          0\n",
       "10      0      0          1\n",
       "11      1      0          0\n",
       "12      0      1          0\n",
       "13      0      1          0\n",
       "14      0      0          1"
      ]
     },
     "execution_count": 55,
     "metadata": {},
     "output_type": "execute_result"
    }
   ],
   "source": [
    "from sklearn.preprocessing import OneHotEncoder\n",
    "dummy=pd.get_dummies(ds['Country'])\n",
    "dummy"
   ]
  },
  {
   "cell_type": "code",
   "execution_count": 56,
   "id": "bd4b2285",
   "metadata": {},
   "outputs": [
    {
     "data": {
      "text/plain": [
       "array([[0., 1., 0.],\n",
       "       [0., 0., 1.],\n",
       "       [1., 0., 0.],\n",
       "       [0., 0., 1.],\n",
       "       [1., 0., 0.],\n",
       "       [0., 1., 0.],\n",
       "       [0., 0., 1.],\n",
       "       [0., 1., 0.],\n",
       "       [1., 0., 0.],\n",
       "       [0., 1., 0.],\n",
       "       [0., 0., 1.],\n",
       "       [1., 0., 0.],\n",
       "       [0., 1., 0.],\n",
       "       [0., 1., 0.],\n",
       "       [0., 0., 1.]])"
      ]
     },
     "execution_count": 56,
     "metadata": {},
     "output_type": "execute_result"
    }
   ],
   "source": [
    "from sklearn.preprocessing import OneHotEncoder\n",
    "onehot=OneHotEncoder()\n",
    "onehot.fit_transform(ds.Country.values.reshape(-1,1)).toarray()"
   ]
  },
  {
   "cell_type": "code",
   "execution_count": 58,
   "id": "6fe6d3a0",
   "metadata": {},
   "outputs": [
    {
     "data": {
      "text/plain": [
       "array([[0, 55.0, 98000.0],\n",
       "       [0, 31.0, 74000.0],\n",
       "       [1, 42.0, 65000.0],\n",
       "       [2, 21.0, 20000.0],\n",
       "       [1, nan, 60000.0],\n",
       "       [0, 25.0, 30000.0],\n",
       "       [2, 29.0, nan],\n",
       "       [1, 34.0, 92000.0],\n",
       "       [1, 24.0, 30000.0],\n",
       "       [1, 33.0, 45000.0]], dtype=object)"
      ]
     },
     "execution_count": 58,
     "metadata": {},
     "output_type": "execute_result"
    }
   ],
   "source": [
    "from sklearn.model_selection import train_test_split\n",
    "x_train,x_test,y_train,y_test=train_test_split(x,y,test_size=0.33,random_state=0)\n",
    "x_train"
   ]
  },
  {
   "cell_type": "code",
   "execution_count": 59,
   "id": "d66103c7",
   "metadata": {},
   "outputs": [
    {
     "data": {
      "text/plain": [
       "array([[-1.28571429,  2.26630881,  1.5530053 ],\n",
       "       [-1.28571429, -0.16912752,  0.64145871],\n",
       "       [ 0.14285714,  0.94711413,  0.29962874],\n",
       "       [ 1.57142857, -1.18389266, -1.40952112],\n",
       "       [ 0.14285714,         nan,  0.1097232 ],\n",
       "       [-1.28571429, -0.77798661, -1.02971004],\n",
       "       [ 1.57142857, -0.37208055,         nan],\n",
       "       [ 0.14285714,  0.13530202,  1.32511865],\n",
       "       [ 0.14285714, -0.87946312, -1.02971004],\n",
       "       [ 0.14285714,  0.0338255 , -0.45999342]])"
      ]
     },
     "execution_count": 59,
     "metadata": {},
     "output_type": "execute_result"
    }
   ],
   "source": [
    "from sklearn.preprocessing import StandardScaler\n",
    "sc=StandardScaler()\n",
    "x_train=sc.fit_transform(x_train)\n",
    "x_train"
   ]
  },
  {
   "cell_type": "code",
   "execution_count": 60,
   "id": "e5d13c3e",
   "metadata": {},
   "outputs": [
    {
     "data": {
      "text/plain": [
       "array([[-1.28571429,  2.26630881,  1.5530053 ],\n",
       "       [-1.28571429, -0.16912752,  0.64145871],\n",
       "       [ 0.14285714,  0.94711413,  0.29962874],\n",
       "       [ 1.57142857, -1.18389266, -1.40952112],\n",
       "       [ 0.14285714,         nan,  0.1097232 ],\n",
       "       [-1.28571429, -0.77798661, -1.02971004],\n",
       "       [ 1.57142857, -0.37208055,         nan],\n",
       "       [ 0.14285714,  0.13530202,  1.32511865],\n",
       "       [ 0.14285714, -0.87946312, -1.02971004],\n",
       "       [ 0.14285714,  0.0338255 , -0.45999342]])"
      ]
     },
     "execution_count": 60,
     "metadata": {},
     "output_type": "execute_result"
    }
   ],
   "source": [
    "from sklearn.preprocessing import StandardScaler\n",
    "sc=StandardScaler()\n",
    "x_test=sc.fit_transform(x_train)\n",
    "x_test"
   ]
  },
  {
   "cell_type": "code",
   "execution_count": null,
   "id": "f1d47755",
   "metadata": {},
   "outputs": [],
   "source": []
  }
 ],
 "metadata": {
  "kernelspec": {
   "display_name": "Python 3 (ipykernel)",
   "language": "python",
   "name": "python3"
  },
  "language_info": {
   "codemirror_mode": {
    "name": "ipython",
    "version": 3
   },
   "file_extension": ".py",
   "mimetype": "text/x-python",
   "name": "python",
   "nbconvert_exporter": "python",
   "pygments_lexer": "ipython3",
   "version": "3.9.13"
  }
 },
 "nbformat": 4,
 "nbformat_minor": 5
}
